{
 "cells": [
  {
   "cell_type": "code",
   "execution_count": 1,
   "metadata": {},
   "outputs": [],
   "source": [
    "import sys\n",
    "sys.path.append('../src')\n",
    "import MODULE_CQS_Attention as cqs_att\n",
    "import numpy as np"
   ]
  },
  {
   "cell_type": "code",
   "execution_count": 2,
   "metadata": {},
   "outputs": [],
   "source": [
    "# Set the value for whole sequence length (N), head dimension (d), and # worker devices (W)\n",
    "N = 11\n",
    "d = 5\n",
    "W = 7"
   ]
  },
  {
   "cell_type": "code",
   "execution_count": 3,
   "metadata": {},
   "outputs": [],
   "source": [
    "# Initialize Q, K, V, and CQS_Attention\n",
    "Q = np.random.rand(N,d)\n",
    "K = np.random.rand(N,d)\n",
    "V = np.random.rand(N,d)\n",
    "cqs_attention = cqs_att.CQS_Attention(Q,K,V,W)"
   ]
  },
  {
   "cell_type": "code",
   "execution_count": 4,
   "metadata": {},
   "outputs": [
    {
     "name": "stdout",
     "output_type": "stream",
     "text": [
      "===== Scheduler =====\n",
      "N = 11, W = 7, d = 5\n",
      "\n",
      "Interest Set\n",
      "[0, 1, 3]\n",
      "\n",
      "TG-Tk map\n",
      "{0: [0], 1: [1], 2: [2], 3: [3, 4], 4: [5, 6], 5: [7, 8], 6: [9, 10]}\n",
      "\n",
      "CQS\n",
      "[[0, 1, 3], [1, 2, 4], [2, 3, 5], [3, 4, 6], [4, 5, 0], [5, 6, 1], [6, 0, 2]]\n",
      "\n",
      "undistilled pair list\n",
      "[[(0, 1), (0, 3), (1, 3)], [(1, 2), (1, 4), (2, 4)], [(2, 3), (2, 5), (3, 5)], [(3, 4), (3, 6), (4, 6)], [(4, 5), (0, 4), (0, 5)], [(5, 6), (1, 5), (1, 6)], [(0, 6), (2, 6), (0, 2)]]\n",
      "\n",
      "distilled pair list\n",
      "[[(0, 1), (0, 3), (1, 3)], [(1, 2), (1, 4), (2, 4)], [(2, 3), (2, 5), (3, 5)], [(3, 4), (3, 6), (4, 6)], [(4, 5), (0, 4), (0, 5)], [(5, 6), (1, 5), (1, 6)], [(0, 6), (2, 6), (0, 2)]]\n",
      "\n",
      "distilled CQS\n",
      "[[0, 1, 3], [1, 2, 4], [2, 3, 5], [3, 4, 6], [0, 4, 5], [1, 5, 6], [0, 2, 6]]\n",
      "\n",
      "MtrlL\n",
      "[[0, 1, 3, 4], [1, 2, 5, 6], [2, 3, 4, 7, 8], [3, 4, 5, 6, 9, 10], [0, 5, 6, 7, 8], [1, 7, 8, 9, 10], [0, 2, 9, 10]]\n",
      "\n",
      "Task lists (ONLY for validation purpose)\n",
      "[[(0, 0), (0, 1), (1, 0), (0, 3), (3, 0), (0, 4), (4, 0), (1, 3), (3, 1), (1, 4), (4, 1)], [(1, 1), (1, 2), (2, 1), (1, 5), (5, 1), (1, 6), (6, 1), (2, 5), (5, 2), (2, 6), (6, 2)], [(2, 2), (2, 3), (3, 2), (2, 4), (4, 2), (2, 7), (7, 2), (2, 8), (8, 2), (3, 7), (7, 3), (3, 8), (8, 3), (4, 7), (7, 4), (4, 8), (8, 4)], [(3, 3), (3, 4), (4, 3), (4, 4), (3, 5), (5, 3), (3, 6), (6, 3), (4, 5), (5, 4), (4, 6), (6, 4), (3, 9), (9, 3), (3, 10), (10, 3), (4, 9), (9, 4), (4, 10), (10, 4), (5, 9), (9, 5), (5, 10), (10, 5), (6, 9), (9, 6), (6, 10), (10, 6)], [(5, 5), (5, 6), (6, 5), (6, 6), (5, 7), (7, 5), (5, 8), (8, 5), (6, 7), (7, 6), (6, 8), (8, 6), (0, 5), (5, 0), (0, 6), (6, 0), (0, 7), (7, 0), (0, 8), (8, 0)], [(7, 7), (7, 8), (8, 7), (8, 8), (7, 9), (9, 7), (7, 10), (10, 7), (8, 9), (9, 8), (8, 10), (10, 8), (1, 7), (7, 1), (1, 8), (8, 1), (1, 9), (9, 1), (1, 10), (10, 1)], [(9, 9), (9, 10), (10, 9), (10, 10), (0, 9), (9, 0), (0, 10), (10, 0), (2, 9), (9, 2), (2, 10), (10, 2), (0, 2), (2, 0)]]\n",
      "\n",
      "Ban lists (global index)\n",
      "[[(1, 1), (3, 3), (3, 4), (4, 3), (4, 4)], [(5, 5), (5, 6), (6, 5), (6, 6), (2, 2)], [(7, 7), (7, 8), (8, 7), (8, 8), (3, 3), (3, 4), (4, 3), (4, 4)], [(5, 5), (5, 6), (6, 5), (6, 6), (9, 9), (9, 10), (10, 9), (10, 10)], [(7, 7), (7, 8), (8, 7), (8, 8), (0, 0)], [(9, 9), (9, 10), (10, 9), (10, 10), (1, 1)], [(0, 0), (2, 2)]]\n",
      "\n",
      "Ban lists (reindexed)\n",
      "[[(1, 1), (2, 2), (2, 3), (3, 2), (3, 3)], [(2, 2), (2, 3), (3, 2), (3, 3), (1, 1)], [(3, 3), (3, 4), (4, 3), (4, 4), (1, 1), (1, 2), (2, 1), (2, 2)], [(2, 2), (2, 3), (3, 2), (3, 3), (4, 4), (4, 5), (5, 4), (5, 5)], [(3, 3), (3, 4), (4, 3), (4, 4), (0, 0)], [(3, 3), (3, 4), (4, 3), (4, 4), (0, 0)], [(0, 0), (1, 1)]]\n",
      "\n",
      "===== Workers =====\n",
      "Worker 0: mTki = 4, d = 5\n",
      "Pi: (4, 4)\n",
      "[[8.24756055 3.53483713 6.95934037 7.16574428]\n",
      " [3.10787231 0.         4.63639572 2.91293689]\n",
      " [3.32286701 1.97117658 0.         0.        ]\n",
      " [1.74173231 1.54232714 0.         0.        ]]\n",
      "\n",
      "Si.T: (4,)\n",
      "[25.90748232 10.65720493  5.29404359  3.28405945]\n",
      "\n",
      "Oi: (4, 5)\n",
      "[[14.4860422  13.36664131 20.70831145 16.29553561  9.76836692]\n",
      " [ 6.83893513  4.88105355  8.92997257  6.71234211  3.61593211]\n",
      " [ 1.2872779   2.53685812  4.3270777   3.06532894  2.55868484]\n",
      " [ 0.93063831  1.6886043   2.61461529  1.9949853   1.5835276 ]]\n",
      "\n",
      "Worker 1: mTki = 4, d = 5\n",
      "Pi: (4, 4)\n",
      "[[2.10060885 1.82777297 3.11619574 4.66855602]\n",
      " [2.68363422 0.         3.51969748 4.45686815]\n",
      " [3.43836142 2.65802576 0.         0.        ]\n",
      " [2.44474121 2.01618659 0.         0.        ]]\n",
      "\n",
      "Si.T: (4,)\n",
      "[11.71313358 10.66019984  6.09638718  4.4609278 ]\n",
      "\n",
      "Oi: (4, 5)\n",
      "[[3.742355   5.40622603 7.23600609 5.8117556  3.36745721]\n",
      " [2.57547534 4.53513829 7.17159628 5.34478595 2.36618428]\n",
      " [3.82078015 4.23518135 3.2968569  3.74272441 3.47722932]\n",
      " [2.81606256 3.09735543 2.38957616 2.71438788 2.55981362]]\n",
      "\n",
      "Worker 2: mTki = 5, d = 5\n",
      "Pi: (5, 5)\n",
      "[[2.04390325 6.08390078 4.37941102 6.13128722 5.21938726]\n",
      " [1.94088743 0.         0.         4.66260572 2.92872945]\n",
      " [1.52400472 0.         0.         2.05617435 2.21790947]\n",
      " [1.40246162 2.96647012 2.68751711 0.         0.        ]\n",
      " [2.42686973 5.50196939 3.57580319 0.         0.        ]]\n",
      "\n",
      "Si.T: (5,)\n",
      "[23.85788953  9.53222259  5.79808854  7.05644886 11.50464231]\n",
      "\n",
      "Oi: (5, 5)\n",
      "[[14.76847134 10.89970933 17.8567881  13.98379655  5.87177413]\n",
      " [ 4.3773456   4.08144978  6.75350031  4.50867264  2.23444024]\n",
      " [ 2.7127566   2.54051683  3.74012414  2.95481794  1.68331654]\n",
      " [ 5.92880317  4.0737787   4.92706554  4.4938736   2.58365988]\n",
      " [ 9.78771533  6.27125981  8.22854685  7.33327278  4.21178575]]\n",
      "\n",
      "Worker 3: mTki = 6, d = 5\n",
      "Pi: (6, 6)\n",
      "[[2.06366671 2.80261904 1.67346119 2.6232881  2.16532217 2.39579213]\n",
      " [2.35201099 1.71571652 1.92399624 2.14556067 2.49926944 1.90854955]\n",
      " [7.44229655 6.23120178 0.         0.         6.49689944 4.52073719]\n",
      " [3.46702844 3.97757671 0.         0.         3.23700236 2.98668206]\n",
      " [3.98124836 2.55057719 2.74953645 4.1991194  0.         0.        ]\n",
      " [2.47905501 2.7407169  2.19144958 2.8080452  0.         0.        ]]\n",
      "\n",
      "Si.T: (6,)\n",
      "[13.72414933 12.5451034  24.69113496 13.66828957 13.4804814  10.21926669]\n",
      "\n",
      "Oi: (6, 5)\n",
      "[[ 7.4327748   7.04843489  8.64062808  6.34680887  2.85544219]\n",
      " [ 6.78105215  6.26057313  7.75533855  5.33107298  2.59894972]\n",
      " [18.43114674 14.63975185 14.92972331 11.66189933  6.2478383 ]\n",
      " [ 9.97834526  8.10935884  8.38857343  6.5021676   3.35917203]\n",
      " [ 6.79054402  5.71266216  9.88870777  7.63367479  2.80723046]\n",
      " [ 5.17933772  4.67648437  7.34020314  5.66466819  2.19315677]]\n",
      "\n",
      "Worker 4: mTki = 5, d = 5\n",
      "Pi: (5, 5)\n",
      "[[0.         4.34694146 6.94436331 8.81456262 7.59150349]\n",
      " [6.94808769 4.67515408 6.77878591 7.06929278 7.78997646]\n",
      " [4.36034101 2.48702533 3.35092178 4.45537519 4.18927227]\n",
      " [2.65876922 2.31567816 2.38682968 0.         0.        ]\n",
      " [3.7786036  3.22944436 5.08119126 0.         0.        ]]\n",
      "\n",
      "Si.T: (5,)\n",
      "[27.69737089 33.26129693 18.84293556  7.36127706 12.08923922]\n",
      "\n",
      "Oi: (5, 5)\n",
      "[[ 7.7923881   9.78938901 20.03408038 13.60363372  3.82528267]\n",
      " [ 7.68861111 11.52814973 24.90265472 16.33586433  7.19946195]\n",
      " [ 4.40858407  6.53265277 14.37922182  9.0797912   4.13832742]\n",
      " [ 0.92226261  2.40098765  5.59125603  3.02805003  1.90854871]\n",
      " [ 1.68444384  4.19611632  8.87040428  5.51511661  3.03094819]]\n",
      "\n",
      "Worker 5: mTki = 5, d = 5\n",
      "Pi: (5, 5)\n",
      "[[0.         5.91323516 3.59259792 3.00620852 1.98432647]\n",
      " [1.85162656 1.93983661 2.6862196  2.37259733 1.89780667]\n",
      " [2.54771428 9.49465675 5.14088933 4.66576188 3.21241031]\n",
      " [1.98687519 5.8611589  3.35679869 0.         0.        ]\n",
      " [1.88913336 2.36848408 2.72926995 0.         0.        ]]\n",
      "\n",
      "Si.T: (5,)\n",
      "[14.49636807 10.74808676 25.06143254 11.20483278  6.98688739]\n",
      "\n",
      "Oi: (5, 5)\n",
      "[[ 6.63509538  6.78716782  9.43170872  5.56946721  2.19152081]\n",
      " [ 5.09506213  5.60481777  6.33792151  4.93627808  2.49713659]\n",
      " [11.66129265 12.35207421 16.54525349 10.42145188  4.51744534]\n",
      " [ 4.49057788  4.76839933  8.78096128  5.91413459  1.98279192]\n",
      " [ 2.74060974  3.11542414  5.06042607  4.23317734  1.66711367]]\n",
      "\n",
      "Worker 6: mTki = 4, d = 5\n",
      "Pi: (4, 4)\n",
      "[[0.         2.55192697 5.0347966  3.95977539]\n",
      " [4.28176122 0.         4.38520399 3.01971162]\n",
      " [2.75913436 1.89904086 3.00787554 2.07403226]\n",
      " [3.1217281  1.58953654 2.21295088 1.9917268 ]]\n",
      "\n",
      "Si.T: (4,)\n",
      "[11.54649896 11.68667683  9.74008302  8.91594232]\n",
      "\n",
      "Oi: (4, 5)\n",
      "[[7.43548945 7.45303056 4.53455819 2.9670423  3.61604493]\n",
      " [4.89955118 6.3583289  6.61478336 3.4906179  3.68594703]\n",
      " [4.8411924  5.594713   5.06336224 3.11240683 3.75654078]\n",
      " [4.03731682 4.72929779 5.18971532 3.06810862 3.44288113]]\n",
      "\n",
      "===== Tiler =====\n",
      "Putting local Oi and Si together:\n",
      "O\n",
      "[[29.71391975 30.60906088 45.27695002 32.86621163 17.20969452]\n",
      " [17.2163855  17.0744474  25.59768739 18.09356492  9.17491013]\n",
      " [22.24349786 21.79317651 31.64316774 22.8192004  11.92390543]\n",
      " [13.0973983  13.66674278 19.72120609 13.92081044  7.64856727]\n",
      " [10.42444706 10.48969426 14.11007798 10.28087623  5.86579386]\n",
      " [29.940538   30.40308293 43.12923493 31.74048806 16.92452956]\n",
      " [17.20299189 17.73936704 25.15737141 18.29634668 10.05731307]\n",
      " [11.94612791 12.07958412 16.85624307 12.45820172  6.98934518]\n",
      " [23.13345182 22.81945034 33.64420463 23.26984127 11.76017928]\n",
      " [16.1223143  16.0757745  23.73303129 16.66021621  8.54656316]\n",
      " [11.95726428 12.5212063  17.59034453 12.96595416  7.30315157]]\n",
      "\n",
      "S.T\n",
      "[65.15135217 36.86670658 46.2047662  28.55041552 21.62725138 64.04881907\n",
      " 36.97215294 25.16581268 48.65531407 34.42539721 26.12209639]\n",
      "\n",
      "Final Attention O = O/S\n",
      "[[0.45607526 0.46981467 0.69495027 0.50445939 0.26414946]\n",
      " [0.46699006 0.46314002 0.69433073 0.49078333 0.24886709]\n",
      " [0.48141133 0.47166512 0.6848464  0.49387114 0.25806657]\n",
      " [0.45874633 0.47868805 0.69075023 0.48758696 0.26789688]\n",
      " [0.48200517 0.48502207 0.65242123 0.47536675 0.27122235]\n",
      " [0.46746433 0.47468608 0.67338064 0.49556711 0.26424421]\n",
      " [0.46529592 0.47980346 0.68044107 0.49486831 0.272024  ]\n",
      " [0.47469669 0.47999976 0.66980722 0.49504468 0.27773175]\n",
      " [0.47545581 0.46900222 0.69148058 0.47825899 0.2417039 ]\n",
      " [0.46832617 0.46697426 0.68940472 0.48395131 0.24826331]\n",
      " [0.4577452  0.4793339  0.67338947 0.49635963 0.27957754]]\n",
      "\n"
     ]
    }
   ],
   "source": [
    "################ WORKFLOW ################\n",
    "\n",
    "# Run the workflow, including Scheduler computing the partition, \n",
    "# Workers doing local computation, and Titler putting local results together.\n",
    "# Output attention is stored as \"cqs_attention.O\"\n",
    "# For a clean look, set \"display = False\". It mutes the workflow details.\n",
    "# We suggest to set it to True when N < 30, modify as you wish.\n",
    "\n",
    "if N < 30:\n",
    "    display = True\n",
    "else:\n",
    "    display = False\n",
    "cqs_attention.workflow(display = display)"
   ]
  },
  {
   "cell_type": "code",
   "execution_count": 5,
   "metadata": {},
   "outputs": [
    {
     "name": "stdout",
     "output_type": "stream",
     "text": [
      "CQS_Attention results is correct:\n"
     ]
    },
    {
     "data": {
      "text/plain": [
       "True"
      ]
     },
     "execution_count": 5,
     "metadata": {},
     "output_type": "execute_result"
    }
   ],
   "source": [
    "################ CORRECTNESS CHECK ################\n",
    "\n",
    "# Validate the computation correctness by comparing CQS_Attention result with the normal computation result\n",
    "\n",
    "# Compute O (named as O_0) directly from Q, K, V \n",
    "from scipy.special import softmax\n",
    "O_0 = softmax(Q @ K.T, axis = 1) @ V\n",
    "\n",
    "# Compare O_0 with CQS_Attention result (cqs_attention.O)\n",
    "# True for equal, False otherwise.\n",
    "print('CQS_Attention results is correct:')\n",
    "np.allclose(O_0,cqs_attention.O)"
   ]
  },
  {
   "cell_type": "code",
   "execution_count": 6,
   "metadata": {},
   "outputs": [
    {
     "name": "stdout",
     "output_type": "stream",
     "text": [
      "CQS_Attention results is correct:\n"
     ]
    },
    {
     "data": {
      "text/plain": [
       "True"
      ]
     },
     "execution_count": 6,
     "metadata": {},
     "output_type": "execute_result"
    }
   ],
   "source": [
    "# Alternatively, we implement the above validation process as \"validate_computation_correctness()\"\n",
    "print('CQS_Attention results is correct:')\n",
    "cqs_attention.validate_computation_correctness()"
   ]
  },
  {
   "cell_type": "code",
   "execution_count": 7,
   "metadata": {},
   "outputs": [
    {
     "name": "stdout",
     "output_type": "stream",
     "text": [
      "FYI, approximation of subsequence length ratio is m / W: 0.42857142857142855. Most actual ratios are lower, hence better.\n",
      "Longest subsequence: 6, ratio to N: 0.5454545454545454\n",
      "Shortest subsequence: 4, ratio to N: 0.36363636363636365\n",
      "Average length: 4.714285714285714, ratio to N: 0.4285714285714286\n",
      "Standard deviation: 0.7559289460184544\n",
      "\n",
      "Subsequence length distribution\n"
     ]
    },
    {
     "data": {
      "image/png": "[encoded data removed]",
      "text/plain": [
       "<Figure size 400x200 with 1 Axes>"
      ]
     },
     "metadata": {},
     "output_type": "display_data"
    }
   ],
   "source": [
    "################ MEMORY CONSUMPTION ################\n",
    "\n",
    "cqs_attention.memory_consumption_summary()"
   ]
  },
  {
   "cell_type": "code",
   "execution_count": 9,
   "metadata": {},
   "outputs": [
    {
     "data": {
      "image/png": "[encoded data removed]",
      "text/plain": [
       "<Figure size 700x700 with 1 Axes>"
      ]
     },
     "metadata": {},
     "output_type": "display_data"
    }
   ],
   "source": [
    "################ VISUALIZE PARTITION OF P ################\n",
    "\n",
    "# It is NOT recommended to visualize P partition when N is very large due to long redering time.\n",
    "# When W is large, visualization may not be as clear, because colors are randomly generated and there may be very similar ones.\n",
    "# Run this cell multiple times for better colors\n",
    "if N < 100:\n",
    "    cqs_attention.visualize_P_partition()"
   ]
  },
  {
   "cell_type": "code",
   "execution_count": null,
   "metadata": {},
   "outputs": [],
   "source": []
  }
 ],
 "metadata": {
  "kernelspec": {
   "display_name": "ICML_ENV",
   "language": "python",
   "name": "tr_env"
  },
  "language_info": {
   "codemirror_mode": {
    "name": "ipython",
    "version": 3
   },
   "file_extension": ".py",
   "mimetype": "text/x-python",
   "name": "python",
   "nbconvert_exporter": "python",
   "pygments_lexer": "ipython3",
   "version": "3.10.2"
  }
 },
 "nbformat": 4,
 "nbformat_minor": 4
}
