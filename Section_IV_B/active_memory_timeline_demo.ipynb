{
 "cells": [
  {
   "cell_type": "code",
   "execution_count": 1,
   "id": "6ab19ed4-9672-4ae2-8bc9-b5545208d8b4",
   "metadata": {},
   "outputs": [],
   "source": [
    "import torch, math, gc\n",
    "\n",
    "# For details, please refer to https://pytorch.org/docs/stable/torch_cuda_memory.html"
   ]
  },
  {
   "cell_type": "code",
   "execution_count": 3,
   "id": "cb713e18-3caf-4955-aa46-0e09efd015f5",
   "metadata": {},
   "outputs": [],
   "source": [
    "def scaled_dot_product_attention(query, key, value, attn_mask=None, dropout_p=0.0, is_causal=False, scale=None) -> torch.Tensor:\n",
    "    # Efficient implementation equivalent to the following:\n",
    "    L, S = query.size(-2), key.size(-2)\n",
    "    scale_factor = 1 / math.sqrt(query.size(-1)) if scale is None else scale\n",
    "    attn_bias = torch.zeros(L, S, dtype=query.dtype, device = 'cuda')\n",
    "\n",
    "    attn_weight = query @ key.transpose(-2, -1) * scale_factor\n",
    "    attn_weight += attn_bias\n",
    "    attn_weight = torch.softmax(attn_weight, dim=-1)\n",
    "    attn_weight = torch.dropout(attn_weight, dropout_p, train=True)  # applied to balance the workload\n",
    "\n",
    "    return attn_weight @ value"
   ]
  },
  {
   "cell_type": "code",
   "execution_count": 4,
   "id": "6016f142-b318-4c56-aafe-4034aca1dd53",
   "metadata": {},
   "outputs": [],
   "source": [
    "def gen_memory_timeline(seq_lengths, repeat_time = 5, output_file = './my_snapshot.pickle'):    \n",
    "    torch.cuda.memory._record_memory_history()\n",
    "    for seq_len in seq_lengths:\n",
    "        Q = torch.rand(1, 8, seq_len, 64, dtype=torch.float16, device=\"cuda\")\n",
    "        K = torch.rand(1, 8, seq_len, 64, dtype=torch.float16, device=\"cuda\")\n",
    "        V = torch.rand(1, 8, seq_len, 64, dtype=torch.float16, device=\"cuda\")\n",
    "        for _ in range(repeat_time):\n",
    "            res = scaled_dot_product_attention(Q, K, V)\n",
    "        torch.cuda.empty_cache()\n",
    "        gc.collect()\n",
    "    torch.cuda.memory._dump_snapshot(output_file)"
   ]
  },
  {
   "cell_type": "code",
   "execution_count": 5,
   "id": "b676b470-bbae-42c5-8153-5f4271a77153",
   "metadata": {},
   "outputs": [
    {
     "name": "stderr",
     "output_type": "stream",
     "text": [
      "[W unwind.cpp:194] Warning: Unsupported unwinding pattern: Address not in range (function unwinderFor)\n"
     ]
    }
   ],
   "source": [
    "seq_lengths = [10000, 20000, 30000, 40000, 45000]\n",
    "gen_memory_timeline(seq_lengths)"
   ]
  }
 ],
 "metadata": {
  "kernelspec": {
   "display_name": "ICML_ENV",
   "language": "python",
   "name": "tr_env"
  },
  "language_info": {
   "codemirror_mode": {
    "name": "ipython",
    "version": 3
   },
   "file_extension": ".py",
   "mimetype": "text/x-python",
   "name": "python",
   "nbconvert_exporter": "python",
   "pygments_lexer": "ipython3",
   "version": "3.10.2"
  }
 },
 "nbformat": 4,
 "nbformat_minor": 5
}
